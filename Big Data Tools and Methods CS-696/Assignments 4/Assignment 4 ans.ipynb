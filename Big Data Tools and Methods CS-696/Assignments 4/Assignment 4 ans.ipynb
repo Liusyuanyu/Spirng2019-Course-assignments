{
 "cells": [
  {
   "cell_type": "code",
   "execution_count": null,
   "metadata": {},
   "outputs": [],
   "source": [
    "from pyspark.sql import SparkSession\n",
    "spark = SparkSession.builder.getOrCreate()\n",
    "from matplotlib import pyplot as plt\n",
    "import numpy as np\n",
    "# from pyspark.sql.functions import avg, stddev_pop\n",
    "import pyspark.sql.functions as sparkfun"
   ]
  },
  {
   "cell_type": "code",
   "execution_count": null,
   "metadata": {},
   "outputs": [],
   "source": [
    "text_path = r\"./itcont_2016_20161204_92060702.txt\"\n",
    "heaher_path = r\"./indiv_header_file.csv\"\n"
   ]
  },
  {
   "cell_type": "code",
   "execution_count": null,
   "metadata": {},
   "outputs": [],
   "source": [
    "reader = spark.read \n",
    "reader.option(\"header\",True) \n",
    "reader.option(\"inferSchema\",True) \n",
    "reader.option(\"sep\", \"|\") \n",
    "# reader.option(\"delimter\", \"|\") \n",
    "donation_df = reader.csv(text_path)\n",
    "\n",
    "reader = spark.read \n",
    "reader.option(\"header\",True) \n",
    "reader.option(\"inferSchema\",True) \n",
    "reader.option(\"delimter\", \"|\") \n",
    "header_df = reader.csv(heaher_path)\n",
    "\n",
    "donation_df =  donation_df.toDF(*header_df.columns)"
   ]
  },
  {
   "cell_type": "code",
   "execution_count": null,
   "metadata": {
    "scrolled": true
   },
   "outputs": [],
   "source": [
    "donation_df = donation_df.select(\"CMTE_ID\",\"TRANSACTION_TP\",\"ENTITY_TP\",\"TRANSACTION_AMT\")\n",
    "donation_df.show()"
   ]
  },
  {
   "cell_type": "code",
   "execution_count": null,
   "metadata": {},
   "outputs": [],
   "source": [
    "donation_transaction_list =[\"15\",\"15E\",\"17R\",\"18K\",\"18L\",\"18U\",\"19\"]"
   ]
  },
  {
   "cell_type": "markdown",
   "metadata": {},
   "source": [
    "# Question 1\n",
    "# 1. How many donations did each campaign have?"
   ]
  },
  {
   "cell_type": "code",
   "execution_count": 195,
   "metadata": {
    "scrolled": true
   },
   "outputs": [
    {
     "name": "stdout",
     "output_type": "stream",
     "text": [
      "+---------+--------------+\n",
      "|  CMTE_ID|count(CMTE_ID)|\n",
      "+---------+--------------+\n",
      "|C00577130|            10|\n",
      "|C00575795|           637|\n",
      "|C00580100|          1417|\n",
      "+---------+--------------+\n",
      "\n"
     ]
    }
   ],
   "source": [
    "# three_cand_count = donation_df[donation_df.TRANSACTION_TP.isin( donation_transaction_list)] # temporary\n",
    "three_cand_count = donation_df\n",
    "three_cand_count = three_cand_count.groupBy('CMTE_ID')\\\n",
    "    .agg( sparkfun.count('CMTE_ID'))\n",
    "\n",
    "result_1 = three_cand_count[three_cand_count.CMTE_ID.isin([\"C00575795\",\"C00577130\",\"C00580100\"])]\n",
    "result_1.show()"
   ]
  },
  {
   "cell_type": "markdown",
   "metadata": {},
   "source": [
    "# 2. What was the total amount donated to each campaign?"
   ]
  },
  {
   "cell_type": "code",
   "execution_count": null,
   "metadata": {
    "scrolled": true
   },
   "outputs": [],
   "source": [
    "three_cand_amt = donation_df.groupBy('CMTE_ID')\\\n",
    "    .agg( sparkfun.sum('TRANSACTION_AMT') )\n",
    "# result.show()\n",
    "\n",
    "result_2 = three_cand_amt[three_cand_amt.CMTE_ID.isin([\"C00575795\",\"C00577130\",\"C00580100\"])]\n",
    "result_2.show()"
   ]
  },
  {
   "cell_type": "code",
   "execution_count": null,
   "metadata": {},
   "outputs": [],
   "source": [
    "new_df = result_1.join(result_2, on=['CMTE_ID'])\n",
    "new_df.show()"
   ]
  },
  {
   "cell_type": "markdown",
   "metadata": {},
   "source": [
    "# 3. What percentage of the each campaign’s donations was done by small contributors?"
   ]
  },
  {
   "cell_type": "code",
   "execution_count": 238,
   "metadata": {},
   "outputs": [
    {
     "name": "stdout",
     "output_type": "stream",
     "text": [
      "+---------+---------+--------------+----------------+------------------+\n",
      "|  CMTE_ID|ENTITY_TP|count(CMTE_ID)|count(ENTITY_TP)|        percentage|\n",
      "+---------+---------+--------------+----------------+------------------+\n",
      "|C00580100|      IND|          1414|            1415|0.9992932862190813|\n",
      "+---------+---------+--------------+----------------+------------------+\n",
      "\n"
     ]
    }
   ],
   "source": [
    "ind_df = donation_df.groupBy(\"CMTE_ID\", \"ENTITY_TP\")\\\n",
    "    .agg( sparkfun.count('CMTE_ID') )\\\n",
    "    .where((sparkfun.col(\"CMTE_ID\") == \"C00575795\") | (sparkfun.col(\"CMTE_ID\") == \"C00577130\") | \\\n",
    "           (sparkfun.col(\"CMTE_ID\") == \"C00580100\") & (sparkfun.col(\"ENTITY_TP\") == \"IND\"))\n",
    "total_entity_df = donation_df.groupBy(\"CMTE_ID\")\\\n",
    "    .agg( sparkfun.count('ENTITY_TP') )\\\n",
    "    .where((sparkfun.col(\"CMTE_ID\") == \"C00575795\") | (sparkfun.col(\"CMTE_ID\") == \"C00577130\") | \\\n",
    "           (sparkfun.col(\"CMTE_ID\") == \"C00580100\"))\n",
    "\n",
    "new_df =  ind_df.join(total_entity_df, on=[\"CMTE_ID\"])\n",
    "\n",
    "\n",
    "new_df = new_df.withColumn('percentage',new_df[\"count(CMTE_ID)\"]/new_df[\"count(ENTITY_TP)\"] )\n",
    "new_df.show()"
   ]
  },
  {
   "cell_type": "markdown",
   "metadata": {},
   "source": [
    "# 4. Produce a histogram of the donations for each campaign?"
   ]
  },
  {
   "cell_type": "code",
   "execution_count": null,
   "metadata": {},
   "outputs": [],
   "source": []
  },
  {
   "cell_type": "markdown",
   "metadata": {},
   "source": [
    "# Code for AWS"
   ]
  },
  {
   "cell_type": "code",
   "execution_count": 204,
   "metadata": {},
   "outputs": [],
   "source": [
    "def files_from_args(): \n",
    "\timport argparse\n",
    "\tparser = argparse.ArgumentParser() \n",
    "\tparser.add_argument('-f', '--file', default='file')\n",
    "\tparser.add_argument('-c', '--column', default='column') \n",
    "\tparser.add_argument('-o', '--output',default='output') \n",
    "\t# parser.add_argument('-i', '--input', default='input') \n",
    "\n",
    "\targs = parser.parse_args() \n",
    "\treturn (args.file, args.column, args.output) "
   ]
  },
  {
   "cell_type": "code",
   "execution_count": 226,
   "metadata": {},
   "outputs": [],
   "source": [
    "def gradandclearthedat(file_path,heaher_path):\n",
    "    from pyspark.sql import SparkSession\n",
    "    spark = SparkSession.builder.getOrCreate()\n",
    "    \n",
    "    reader = spark.read \n",
    "    reader.option(\"header\",True) \n",
    "    reader.option(\"inferSchema\",True) \n",
    "    reader.option(\"sep\", \"|\") \n",
    "    # reader.option(\"delimter\", \"|\") \n",
    "    donation_df = reader.csv(file_path)\n",
    "\n",
    "    reader = spark.read \n",
    "    reader.option(\"header\",True) \n",
    "    reader.option(\"inferSchema\",True) \n",
    "    reader.option(\"delimter\", \"|\") \n",
    "    header_df = reader.csv(heaher_path)\n",
    "    donation_df =  donation_df.toDF(*header_df.columns)\n",
    "    donation_df = donation_df.select(\"CMTE_ID\",\"TRANSACTION_TP\",\"ENTITY_TP\",\"TRANSACTION_AMT\")\n",
    "    return donation_df"
   ]
  },
  {
   "cell_type": "code",
   "execution_count": 255,
   "metadata": {},
   "outputs": [],
   "source": [
    "def count_donation(donation_df,output):\n",
    "    import pyspark.sql.functions as sparkfun\n",
    "    donation_transaction_list =[\"15\",\"15E\",\"17R\",\"18K\",\"18L\",\"18U\",\"19\"]    \n",
    "    donation_df = donation_df[donation_df.TRANSACTION_TP.isin( donation_transaction_list)]\n",
    "    three_cand_count = donation_df.groupBy('CMTE_ID')        .agg( sparkfun.count('CMTE_ID'))\n",
    "    result_1 = three_cand_count[three_cand_count.CMTE_ID.isin([\"C00575795\",\"C00577130\",\"C00580100\"])]\n",
    "    print(\"The count of donations for each campaign\")\n",
    "    result_1.show()\n",
    "    result_1 = result_1.repartition(1)\n",
    "    count_output = output + \"-count\"\n",
    "    result_1.write.format('csv').save(count_output)   \n",
    "    return donation_df"
   ]
  },
  {
   "cell_type": "code",
   "execution_count": 254,
   "metadata": {},
   "outputs": [],
   "source": [
    "def amount_donation(donation_df,output):\n",
    "    import pyspark.sql.functions as sparkfun\n",
    "    three_cand_amt = donation_df.groupBy('CMTE_ID')\\\n",
    "    .agg( sparkfun.sum('TRANSACTION_AMT') )\n",
    "    result_2 = three_cand_amt[three_cand_amt.CMTE_ID.isin([\"C00575795\",\"C00577130\",\"C00580100\"])]\n",
    "    \n",
    "    print(\"The amount of donations for each campaign\")\n",
    "    result_2.show()\n",
    "    result_2 = result_2.repartition(1)\n",
    "    amount_output = output + \"-amount\"\n",
    "    result_2.write.format('csv').save(amount_output)"
   ]
  },
  {
   "cell_type": "code",
   "execution_count": 253,
   "metadata": {},
   "outputs": [],
   "source": [
    "def percentage_donation(donation_df,output):\n",
    "    import pyspark.sql.functions as sparkfun\n",
    "    ind_df = donation_df.groupBy(\"CMTE_ID\", \"ENTITY_TP\")\\\n",
    "        .agg( sparkfun.count('CMTE_ID') )\\\n",
    "        .where((sparkfun.col(\"CMTE_ID\") == \"C00575795\") | (sparkfun.col(\"CMTE_ID\") == \"C00577130\") | \\\n",
    "               (sparkfun.col(\"CMTE_ID\") == \"C00580100\") & (sparkfun.col(\"ENTITY_TP\") == \"IND\"))\n",
    "    total_entity_df = donation_df.groupBy(\"CMTE_ID\")\\\n",
    "        .agg( sparkfun.count('ENTITY_TP') )\\\n",
    "        .where((sparkfun.col(\"CMTE_ID\") == \"C00575795\") | (sparkfun.col(\"CMTE_ID\") == \"C00577130\") | \\\n",
    "               (sparkfun.col(\"CMTE_ID\") == \"C00580100\"))\n",
    "    result_3 =  ind_df.join(total_entity_df, on=[\"CMTE_ID\"])\n",
    "    result_3 = result_3.withColumn('percentage',result_3[\"count(CMTE_ID)\"]/result_3[\"count(ENTITY_TP)\"] )\n",
    "    \n",
    "    print(\"The percentage of small contributors each campaign\")\n",
    "    result_3.show()\n",
    "    result_3 = result_3.repartition(1)\n",
    "    percent_output = output + \"-percent\"\n",
    "    result_3.write.format('csv').save(percent_output)    "
   ]
  },
  {
   "cell_type": "code",
   "execution_count": null,
   "metadata": {},
   "outputs": [],
   "source": [
    "if __name__ == \"__main__\": \n",
    "    file_path, heaher_path,output = files_from_args() \n",
    "    donation_df = gradandclearthedat(file_path,heaher_path)\n",
    "    donation_df = count_donation(donation_df,output)  \n",
    "    amount_donation(donation_df,output)\n",
    "    percentage_donation(donation_df,output)    "
   ]
  },
  {
   "cell_type": "code",
   "execution_count": 252,
   "metadata": {
    "scrolled": false
   },
   "outputs": [
    {
     "name": "stdout",
     "output_type": "stream",
     "text": [
      "The count of donations for each campaign\n",
      "+---------+--------------+\n",
      "|  CMTE_ID|count(CMTE_ID)|\n",
      "+---------+--------------+\n",
      "|C00580100|          1415|\n",
      "+---------+--------------+\n",
      "\n",
      "The amount of donations for each campaign\n",
      "+---------+--------------------+\n",
      "|  CMTE_ID|sum(TRANSACTION_AMT)|\n",
      "+---------+--------------------+\n",
      "|C00580100|              201384|\n",
      "+---------+--------------------+\n",
      "\n",
      "The percentage of small contributors each campaign\n",
      "+---------+---------+--------------+----------------+------------------+\n",
      "|  CMTE_ID|ENTITY_TP|count(CMTE_ID)|count(ENTITY_TP)|        percentage|\n",
      "+---------+---------+--------------+----------------+------------------+\n",
      "|C00580100|      IND|          1414|            1415|0.9992932862190813|\n",
      "+---------+---------+--------------+----------------+------------------+\n",
      "\n"
     ]
    }
   ],
   "source": [
    "## Test code\n",
    "\n",
    "donation_df = gradandclearthedat(text_path,heaher_path)\n",
    "donation_df = count_donation(donation_df,\"\")  \n",
    "amount_donation(donation_df,\"\")  \n",
    "\n",
    "percentage_donation(donation_df,\"\")"
   ]
  }
 ],
 "metadata": {
  "kernelspec": {
   "display_name": "Python 3",
   "language": "python",
   "name": "python3"
  },
  "language_info": {
   "codemirror_mode": {
    "name": "ipython",
    "version": 3
   },
   "file_extension": ".py",
   "mimetype": "text/x-python",
   "name": "python",
   "nbconvert_exporter": "python",
   "pygments_lexer": "ipython3",
   "version": "3.7.3"
  }
 },
 "nbformat": 4,
 "nbformat_minor": 2
}

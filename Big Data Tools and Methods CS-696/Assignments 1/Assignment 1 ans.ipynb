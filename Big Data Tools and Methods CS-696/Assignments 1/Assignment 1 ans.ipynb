{
 "cells": [
  {
   "cell_type": "markdown",
   "metadata": {},
   "source": [
    "1. If we list all the natural numbers below 20 that are multiples of 3 or 5 but not multiples both \n",
    "of 3 and 5, we get 3, 5, 6, 9, 10, 12, 18. The sum of these multiples is 63. Write a function, \n",
    "sum_multiples_3_5, that returns the sum of the multiples of 3 and 5 less than N."
   ]
  },
  {
   "cell_type": "code",
   "execution_count": 1,
   "metadata": {},
   "outputs": [
    {
     "data": {
      "text/plain": [
       "True"
      ]
     },
     "execution_count": 1,
     "metadata": {},
     "output_type": "execute_result"
    }
   ],
   "source": [
    "#Problem 1\n",
    "def sum_multiples_3_5(LessThanN):\n",
    "    Sum=0\n",
    "    index=1\n",
    "    Multi = 0\n",
    "    while True:\n",
    "        Multi = 15*index\n",
    "        if(Multi < LessThanN):\n",
    "            Sum += (15*index)\n",
    "        else:\n",
    "            break\n",
    "        index += 1\n",
    "    return Sum\n",
    "\n",
    "#Test\n",
    "ALLPASS = True\n",
    "ALLPASS &=sum_multiples_3_5(11) ==0\n",
    "ALLPASS &=sum_multiples_3_5(54) ==90\n",
    "ALLPASS &=sum_multiples_3_5(20) ==15\n",
    "ALLPASS &=sum_multiples_3_5(24) ==15\n",
    "ALLPASS &=sum_multiples_3_5(30) ==15\n",
    "ALLPASS &=sum_multiples_3_5(35) ==45\n",
    "ALLPASS"
   ]
  },
  {
   "cell_type": "markdown",
   "metadata": {},
   "source": [
    "2. Write a function, pattern_count with two arguments. The ﬁrst arguments is a string, lets call \n",
    "it text, and the second argument is also a string, call it pattern. The function pattern_count \n",
    "returns the number of times the pattern occurs in the text. \n",
    "pattern_count(“abababa”, “aba”) == 3\n",
    "pattern_count(“aaaaa”, “aa”) == 4\n",
    "pattern_count(“Abcde”, “abc”) == 0"
   ]
  },
  {
   "cell_type": "code",
   "execution_count": 2,
   "metadata": {},
   "outputs": [
    {
     "data": {
      "text/plain": [
       "True"
      ]
     },
     "execution_count": 2,
     "metadata": {},
     "output_type": "execute_result"
    }
   ],
   "source": [
    "#Problem 2\n",
    "def pattern_count(text, pattern):\n",
    "    PatIndex =0\n",
    "    TextIndex =0\n",
    "    Times =0\n",
    "    PatLength = len(pattern)\n",
    "    TextLength = len(text)\n",
    "    for char in text:\n",
    "        PatIndex=0\n",
    "        if(char == pattern[0]):\n",
    "            while PatIndex + TextIndex < TextLength:\n",
    "                if(text[PatIndex + TextIndex] == pattern[PatIndex]):\n",
    "                    PatIndex +=1\n",
    "                    if(PatIndex==PatLength):\n",
    "                        Times +=1\n",
    "                        break\n",
    "                    #}\n",
    "                #}\n",
    "                else:\n",
    "                    break\n",
    "            #}\n",
    "        TextIndex +=1\n",
    "\n",
    "    return Times\n",
    "        \n",
    "#Test\n",
    "ALLPASS =True\n",
    "ALLPASS &=pattern_count(\"abababa\", \"aba\") == 3 \n",
    "ALLPASS &=pattern_count(\"aaaaa\", \"aa\") == 4 \n",
    "ALLPASS &=pattern_count(\"Abcde\", \"abc\") == 0 \n",
    "ALLPASS &=pattern_count(\"CCccCCcccCC\", \"cc\") ==3\n",
    "ALLPASS &=pattern_count(\"AcbcAAccddDdeeAcbcAAccddDdeeAcbcAAccddDdee\", \"Ac\") ==6\n",
    "ALLPASS"
   ]
  },
  {
   "cell_type": "markdown",
   "metadata": {},
   "source": [
    "3. A palindrome is a string that reads the same forwards and backwards. We will call a num-\n",
    "ber octaldrome if its octal representation is a palindrome. So 945 is an octaldrome as in oc-\n",
    "tal it is 1661. The ﬁrst nine positive octaldromes are 1, 2, 3, 4, 5, 6, 7, 9 and 18. We want to \n",
    "ﬁnd the n’th positive octaldrome. For example the 1’st positive octaldrome is 1, the ﬁfth pos-\n",
    "itive octaldrome is 5 and the eighth positive octaldrome is 9. Write a function nth_octal-\n",
    "drome(n) that returns the n’th positive octaldrome. So we have\n",
    "nth_octaldrome(1) ==1 \n",
    "nth_octaldrome(9) == 18."
   ]
  },
  {
   "cell_type": "code",
   "execution_count": 3,
   "metadata": {},
   "outputs": [
    {
     "data": {
      "text/plain": [
       "True"
      ]
     },
     "execution_count": 3,
     "metadata": {},
     "output_type": "execute_result"
    }
   ],
   "source": [
    "#Problem 3\n",
    "\n",
    "def nth_octaldrome(Nth):\n",
    "    Order=0\n",
    "    DecNumber = 1 \n",
    "    Length = 0\n",
    "    TF = False\n",
    "    while Order !=Nth:\n",
    "        OctalStr = oct(DecNumber)\n",
    "        OctalStr = OctalStr[2:len(OctalStr)]\n",
    "        Length = len(OctalStr)\n",
    "        TF = True\n",
    "        for index in range(0,Length//2):\n",
    "            if(OctalStr[index] != OctalStr[Length-1-index]):\n",
    "                TF = False\n",
    "                break\n",
    "        if(TF):\n",
    "            Order+=1\n",
    "        DecNumber+=1\n",
    "    DecNumber -=1\n",
    "    return DecNumber\n",
    "    \n",
    "\n",
    "#Test\n",
    "ALLPASS =True\n",
    "ALLPASS &=nth_octaldrome(1) ==1 \n",
    "ALLPASS &=nth_octaldrome(3) ==3\n",
    "ALLPASS &=nth_octaldrome(4) ==4\n",
    "ALLPASS &=nth_octaldrome(5) ==5\n",
    "ALLPASS &=nth_octaldrome(6) ==6\n",
    "ALLPASS &=nth_octaldrome(7) ==7\n",
    "ALLPASS &=nth_octaldrome(8) == 9\n",
    "ALLPASS &=nth_octaldrome(9) == 18\n",
    "ALLPASS &=nth_octaldrome(10) == 27\n",
    "ALLPASS &=nth_octaldrome(11) == 36\n",
    "ALLPASS &=nth_octaldrome(30) == 186\n",
    "\n",
    "ALLPASS"
   ]
  },
  {
   "cell_type": "markdown",
   "metadata": {},
   "source": [
    "4. Write a function, most_frequent_word, which has two arguments. The ﬁrst argument is a \n",
    "string, the second argument is an integer, call it n. most_frequent_word returns the se-\n",
    "quence word(s) of length n that occurs most in the string. For example\n",
    "most_frequent_word(“TCGAAGCTAGACGCTAGTAGCTAGTGTGCA” 4) returns \n",
    "(“CTAG” “GCTA”) "
   ]
  },
  {
   "cell_type": "code",
   "execution_count": 4,
   "metadata": {},
   "outputs": [
    {
     "data": {
      "text/plain": [
       "True"
      ]
     },
     "execution_count": 4,
     "metadata": {},
     "output_type": "execute_result"
    }
   ],
   "source": [
    "#Problem 4\n",
    "def most_frequent_word(Astring, Anint):\n",
    "    Length = len(Astring)\n",
    "    StrTable = {}\n",
    "    for index in range(Length +1 -Anint):\n",
    "        if Astring[index:index + Anint] in StrTable.keys():\n",
    "            StrTable[Astring[index:index + Anint]] += 1\n",
    "        else:\n",
    "            StrTable[Astring[index:index + Anint]] = 1\n",
    "    \n",
    "#     returnstr =[]\n",
    "    returnstr =()\n",
    "    MaxNum = -1\n",
    "    for key, value in StrTable.items():\n",
    "        if(value > MaxNum):\n",
    "            returnstr =(key,)\n",
    "            MaxNum = value\n",
    "        elif(value == MaxNum):\n",
    "            returnstr =returnstr + (key,)\n",
    "#             returnstr.append(key)\n",
    "    return returnstr\n",
    "\n",
    "#Test\n",
    "ALLPASS = True\n",
    "ALLPASS = most_frequent_word(\"StringStrStrStrmmmmmStr\",3) ==(\"Str\",)\n",
    "ALLPASS &= most_frequent_word(\"TCGAAGCTAGACGCTAGTAGCTAGTGTGCA\",4) ==('GCTA', 'CTAG')\n",
    "ALLPASS &= most_frequent_word(\"StringStrStrStrmmmmmStr\",2) ==('St', 'tr')\n",
    "ALLPASS &= most_frequent_word(\"AAABBBACABABDFSDFBXCZXCVZXCVB\",3) ==('ZXC', 'XCV')\n",
    "\n",
    "ALLPASS\n",
    "# most_frequent_word(\"StringStrStrStrmmmmmStr\",3)\n"
   ]
  },
  {
   "cell_type": "markdown",
   "metadata": {},
   "source": [
    "5. In DNA strings, symbols 'A' and 'T' are complements of each other, as are 'C' and 'G'. The \n",
    "reverse complement of a DNA string s is the string formed by reversing s, then taking the \n",
    "complement of each symbol (e.g., the reverse complement of \"GTCA\" is \"TGAC\"). Write a \n",
    "function reverse_complement(s) that returns the reverse complement of s."
   ]
  },
  {
   "cell_type": "code",
   "execution_count": 5,
   "metadata": {},
   "outputs": [
    {
     "data": {
      "text/plain": [
       "True"
      ]
     },
     "execution_count": 5,
     "metadata": {},
     "output_type": "execute_result"
    }
   ],
   "source": [
    "# Problem 5\n",
    "\n",
    "def reverse_complement(DNA):\n",
    "    mapping ={'A':'C', 'T':'G', 'C':'A', 'G':'T'}\n",
    "    \n",
    "    NewStr =\"\"\n",
    "    \n",
    "    for char in DNA:\n",
    "        if(char in mapping.keys()):\n",
    "            NewStr += mapping[char]\n",
    "        else:\n",
    "            NewStr += char\n",
    "    return NewStr\n",
    "\n",
    "#Test\n",
    "ALLPASS = True\n",
    "ALLPASS = reverse_complement(\"GTCA\") ==\"TGAC\"\n",
    "ALLPASS &= reverse_complement(\"TGAC\") ==\"GTCA\"\n",
    "ALLPASS &= reverse_complement(\"GTCAAA\") ==\"TGACCC\"\n",
    "ALLPASS &= reverse_complement(\"GTCAACTG\") ==\"TGACCAGT\"\n",
    "ALLPASS &= reverse_complement(\"ABCBEFGHTA\") =='CBABEFTHGC'\n",
    "ALLPASS"
   ]
  },
  {
   "cell_type": "markdown",
   "metadata": {},
   "source": [
    "6. The GC-content of a DNA string is given by the percentage of characters in the string that \n",
    "are 'C' or 'G'. For example, the GC-content of \"AGCTATAG\" is 37.5%. Write a function g_-\n",
    "content(s) with input a DNA-string and returns the GC-content of the string. So we have \n",
    "gc_content(\"AGCTATAG\") == 0.375"
   ]
  },
  {
   "cell_type": "code",
   "execution_count": 6,
   "metadata": {},
   "outputs": [
    {
     "data": {
      "text/plain": [
       "True"
      ]
     },
     "execution_count": 6,
     "metadata": {},
     "output_type": "execute_result"
    }
   ],
   "source": [
    "#Problem 6\n",
    "def gc_content( DNA ):\n",
    "    Count = DNA.count('C')\n",
    "    Count += DNA.count('G')\n",
    "    Total = len(DNA)\n",
    "    return Count/Total\n",
    "\n",
    "#Test\n",
    "ALLPASS = True\n",
    "ALLPASS = gc_content(\"AGCTATAG\") == 0.375\n",
    "ALLPASS &= gc_content(\"AGCTATAGDD\") == 0.3\n",
    "ALLPASS &= gc_content(\"GCEEEEEEEE\") == 0.2\n",
    "ALLPASS &= gc_content(\"GCEEEEEEEE\") == 0.2\n",
    "ALLPASS &= gc_content(\"acEEEEEEEE\") == 0.0\n",
    "ALLPASS &= (round(gc_content(\"GCETTTTTTTTT\"),4) == 0.1667)\n",
    "ALLPASS"
   ]
  },
  {
   "cell_type": "markdown",
   "metadata": {},
   "source": [
    "7. Write a function that receives a collection of strings and a map from strings to integers. Re-\n",
    "turn a collection of integers that are values of the map corresponding to one of the strings \n",
    "in the collection. For example, given Array(\"Tom\", \"Fred\", \"Harry\") and Map(\"Tom\" -> 3, \n",
    "\"Dick\" -> 4, \"Harry\" -> 5), return Array(3, 5). (note the Array and Map here are pseudo-code \n",
    "to let you know the types"
   ]
  },
  {
   "cell_type": "code",
   "execution_count": 4,
   "metadata": {},
   "outputs": [
    {
     "data": {
      "text/plain": [
       "True"
      ]
     },
     "execution_count": 4,
     "metadata": {},
     "output_type": "execute_result"
    }
   ],
   "source": [
    "#Problem 7\n",
    "def receives(Array, Map):\n",
    "#     result =[]\n",
    "    result =()\n",
    "    for string in Array:\n",
    "        if string in Map:\n",
    "            result += (Map[string],)\n",
    "#             result.append(Map[string])\n",
    "    return result\n",
    "\n",
    "#Test\n",
    "ALLPF = True\n",
    "APF = True\n",
    "Map = {\"Tom\": 3, \"Dick\": 4, \"Harry\": 5}\n",
    "APF = (receives([\"Tom\", \"Fred\", \"Harry\"],Map) == (3, 5))\n",
    "ALLPF &= APF \n",
    "APF = receives([\"Fred11\", \"Harry2\"],Map) == ()\n",
    "ALLPF &= APF \n",
    "\n",
    "Map = {\"Tom\": 0, \"Dick\": 1, \"Harry\": 8, \"Justin\": 7, \"Bill\": 9}\n",
    "APF = receives([\"Tom\", \"Dick\", \"Justin\", \"Bill\"],Map) == (0, 1, 7, 9)\n",
    "ALLPF &= APF \n",
    "APF = receives([\"Tom\", \"Dick\", \"Justin\", \"Bill\"],Map) != (0, 1, 99, 12)\n",
    "ALLPF &= APF \n",
    "\n",
    "ALLPF"
   ]
  },
  {
   "cell_type": "code",
   "execution_count": 8,
   "metadata": {},
   "outputs": [],
   "source": [
    "#End"
   ]
  }
 ],
 "metadata": {
  "kernelspec": {
   "display_name": "Python 3",
   "language": "python",
   "name": "python3"
  },
  "language_info": {
   "codemirror_mode": {
    "name": "ipython",
    "version": 3
   },
   "file_extension": ".py",
   "mimetype": "text/x-python",
   "name": "python",
   "nbconvert_exporter": "python",
   "pygments_lexer": "ipython3",
   "version": "3.7.1"
  }
 },
 "nbformat": 4,
 "nbformat_minor": 2
}
